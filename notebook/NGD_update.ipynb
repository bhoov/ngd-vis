{
 "cells": [
  {
   "cell_type": "code",
   "execution_count": 1,
   "metadata": {},
   "outputs": [],
   "source": [
    "%matplotlib widget \n",
    "\n",
    "import numpy as np\n",
    "import sympy as sym\n",
    "import matplotlib.pyplot as plt\n",
    "from matplotlib import cm, animation, rc\n",
    "\n",
    "from pdb import set_trace"
   ]
  },
  {
   "cell_type": "code",
   "execution_count": 2,
   "metadata": {},
   "outputs": [],
   "source": [
    "\n",
    "def update_w(w, err, jac, eta = 1, q=0):\n",
    "    if w.shape[0] == 1:\n",
    "        update = jac ** (1 - q) * err\n",
    "    elif w.shape[0] == 2:\n",
    "        U, d, V = svd_2d(jac)\n",
    "        update = U * (d ** (1 - q)) @ V @ err\n",
    "    return w - eta * update\n",
    "\n",
    "def svd_2d(M):   #   SVD of 2x2 matrix M:  U and V are orthogonal, D is diagonal, and A=U*D@V\n",
    "    U = get_orth_matrix(M @ M.T)\n",
    "    V = get_orth_matrix(M.T @ M)\n",
    "    d = np.diag(U.T @ M @ V)\n",
    "    \n",
    "    # sign correction\n",
    "    V = np.sign(d) * V\n",
    "    d = np.abs(d)\n",
    "    \n",
    "    return U, d, V.T\n",
    "\n",
    "# A= np.random.randn(2,2)\n",
    "# U, d, V =svd_2d(A)\n",
    "# print(A - U * d @ V)\n",
    "\n",
    "\n",
    "def get_orth_matrix(S):\n",
    "    theta   = 0.5*np.arctan2(S[0,1]+S[1,0], S[0,0]-S[1,1])   \n",
    "    Cos, Sin = np.cos(theta), np.sin(theta)\n",
    "    return np.array([[Cos, -Sin], [Sin, Cos]])\n",
    "    "
   ]
  },
  {
   "cell_type": "code",
   "execution_count": 3,
   "metadata": {},
   "outputs": [],
   "source": [
    "\n",
    "def run_exp(fnc, w0, qs, etas, iter = 100):\n",
    "    w_alls = []; l_alls = []; w_mins = []; w_maxs = []\n",
    "    for q, eta in zip(qs, etas):\n",
    "    #     print(q, eta )\n",
    "        w = w0.copy()\n",
    "        w_all = [w.copy()]\n",
    "        for _ in range(iter):\n",
    "            loss, err, jac = fnc(w, freq = None, amp = None, py = np)\n",
    "\n",
    "            w = update_w(w, err, jac, eta = eta, q=q) \n",
    "            w_all.append(w.copy())\n",
    "\n",
    "        w_all = np.stack(w_all,axis=1)\n",
    "\n",
    "        l_all, _, _ = fnc(w_all)\n",
    "        w_alls.append(w_all)\n",
    "        l_alls.append(l_all)\n",
    "        w_mins.append(w_all.min(axis=1))\n",
    "        w_maxs.append(w_all.max(axis=1))\n",
    "        \n",
    "    return l_alls, w_alls, (w_mins, w_maxs)\n",
    "\n",
    "\n",
    "def get_plot_grid(w_range, n_grid = 101):\n",
    "    w_mins, w_maxs = w_range\n",
    "    w_min, w_max = np.stack(w_mins,axis=1).min(axis=1), np.stack(w_maxs,axis=1).max(axis=1)\n",
    "    cent = (w_max + w_min) / 2 \n",
    "    dif = (w_max - w_min).max() / 2 *1.25\n",
    "    \n",
    "    x_grid = np.linspace(cent[0]-dif,cent[0]+dif, n_grid)\n",
    "    y_grid = np.linspace(cent[1]-dif,cent[1]+dif, n_grid)\n",
    "    return x_grid, y_grid\n",
    "\n",
    "def plot_losses(l_alls):\n",
    "    plt.figure(); \n",
    "    for l in l_alls:\n",
    "        plt.semilogy(l); \n",
    "    plt.show()\n",
    "\n"
   ]
  },
  {
   "cell_type": "code",
   "execution_count": 4,
   "metadata": {},
   "outputs": [],
   "source": [
    "def plot_3d(fnc,  x0, y0 = None, zlim = None, w_all = None):\n",
    "    if y0 is None:\n",
    "        y0 = x0\n",
    "        \n",
    "    x, y = np.meshgrid(x0, y0); nx = len(x0); ny = len(y0)\n",
    "    xy = np.concatenate((x.reshape([1,nx*ny]),y.reshape([1,nx*ny])),axis=0)\n",
    "\n",
    "    outputs = fnc(xy)\n",
    "    z = outputs[0].reshape([ny,nx])\n",
    "\n",
    "    fig = plt.figure()\n",
    "    surf = plt.contour(x,y,np.log(z), 50, cmap=cm.hot)\n",
    "    ax = fig.gca()\n",
    "#     ax = plt.axes(projection='3d')\n",
    "#     surf = ax.plot_surface(x,y,np.sqrt(np.sqrt(z)), rstride=5, cstride=5, cmap=cm.hot,  linewidth=0, antialiased=False)\n",
    "#     ax.set_xlabel('x');ax.set_ylabel('y'); ax.set_zlabel('loss');\n",
    "\n",
    "    fig.colorbar(surf, shrink=0.5, aspect=5)      # Add a colorbar\n",
    "    \n",
    "    if w_all is not None:\n",
    "        plot_trajectory(ax, w_all)\n",
    "#         animate_trajectory(fig, ax, w_all)   ## Doesn't work!  I'd like to see animation!!!\n",
    "    \n",
    "    plt.show()    \n",
    "\n",
    "def plot_trajectory(ax, w_alls):\n",
    "    for w_all in w_alls:\n",
    "        ax.plot(w_all[0,:], w_all[1,:]) #, np.sqrt(np.sqrt(l_all))+25,'k') #, label='parametric curve')\n",
    "        ax.plot(w_all[0,-1], w_all[1,-1],'k.') #, np.sqrt(np.sqrt(l_all))+25,'k') #, label='parametric curve')\n",
    "    \n",
    "    \n",
    "### DOESNT work yet!!!\n",
    "def animate_trajectory(fig, ax, w_alls):\n",
    "    lines = []\n",
    "    T = w_alls[0].shape[1]\n",
    "    for _ in range(len(w_alls)):\n",
    "        line, = ax.plot([], [], lw=2)\n",
    "        lines.append(line)\n",
    "\n",
    "        ax.plot(w_all[0,:], w_all[1,:]) #, np.sqrt(np.sqrt(l_all))+25,'k') #, label='parametric curve')\n",
    "        ax.plot(w_all[0,-1], w_all[1,-1],'k.') #, np.sqrt(np.sqrt(l_all))+25,'k') #, label='parametric curve')\n",
    "        \n",
    "    def init():\n",
    "        for line in lines:\n",
    "            line.set_data([], [])\n",
    "        return (lines,)\n",
    "\n",
    "    def animate(i):\n",
    "        for line, w_all in zip(lines,w_alls):\n",
    "            line.set_data(w_all[0,:i+1], w_all[1,:i+1])\n",
    "        return (lines,)\n",
    "\n",
    "    anim = animation.FuncAnimation(fig, animate, init_func=init,\n",
    "                                   frames=T, interval=20, \n",
    "                                   blit=True)"
   ]
  },
  {
   "cell_type": "code",
   "execution_count": 7,
   "metadata": {},
   "outputs": [],
   "source": [
    "def landscape(xy, freq = None, amp = None, py = np):\n",
    "    if freq is None:\n",
    "        n = 4\n",
    "        freq = np.exp(np.linspace(-1,0,n))    #    freq = np.exp(np.linspace(-2,1,n))  \n",
    "        amp = 1/freq \n",
    "        \n",
    "    err, Jacobian = landscape_core(xy, freq, amp, py)  #xy[0,:], xy[1,:]\n",
    "    err = sym.Array(err) if py == sym else py.array(err)  \n",
    "    loss = (err ** 2).sum(axis=0)/2\n",
    "    return loss, err, Jacobian\n",
    "\n",
    "def landscape_core(x, freq, a, py):\n",
    "    array = sym.Matrix if  py == sym else py.array\n",
    "    \n",
    "    #### 3 layer architecture \n",
    "    def layer1(xs):\n",
    "        x1,x2 = xs\n",
    "        y1, y2 = x1 + 0, x2 + 0     #  y1, y2 = x1.copy(), x2.copy()\n",
    "        \n",
    "        dy1, dy2 = [1, 0], [0, 1]\n",
    "        for i in range(len(freq)):\n",
    "            y1 += a[i]* py.sin(freq[i]*x2) ;                  y2 += a[i]* py.cos(freq[i]*x1) \n",
    "            \n",
    "            # derivatives \n",
    "            dy1[1] += a[i]*freq[i]* py.cos(freq[i]*x2) ;      dy2[0] += a[i]*freq[i]* -py.sin(freq[i]*x1) \n",
    "        return (y1, y2), array([dy1, dy2])\n",
    "\n",
    "    def layer2(ys):\n",
    "        y1,y2 = ys\n",
    "        c1,  s1,  c2,  s2  = 0, 0, 0, 0 \n",
    "        dc1, ds1, dc2, ds2 = [0, 0], [0, 0], [0, 0], [0, 0]\n",
    "        for i in range(len(freq)):\n",
    "            s1 += a[i]* py.sin(freq[i]*y1) ;                 c1 += a[i]* py.cos(freq[i]*y1) \n",
    "            s2 += a[i]* py.sin(freq[i]*y2) ;                 c2 += a[i]* py.cos(freq[i]*y2) \n",
    "            \n",
    "            # derivatives \n",
    "            ds1[0] += a[i]*freq[i]* py.cos(freq[i]*y1) ;        dc1[0] += a[i]*freq[i]* -py.sin(freq[i]*y1) \n",
    "            ds2[1] += a[i]*freq[i]* py.cos(freq[i]*y2) ;        dc2[1] += a[i]*freq[i]* -py.sin(freq[i]*y2) \n",
    "        return (s1, s2, c1, c2), array([ds1, ds2, dc1, dc2])\n",
    "    \n",
    "    def layer3(ys, sc):\n",
    "        y1,y2 = ys;        \n",
    "        s1, s2, c1, c2 = sc\n",
    "        z1     = y1 * s2 + c1 * y2;   z2     = s1 * y2 + y1 * c2 \n",
    "        \n",
    "        # derivatives \n",
    "        z1_dy  = [s2, c1];            z2_dy  = [c2, s1]; \n",
    "        z1_dsc = [ 0, y1, y2, 0];     z2_dsc = [y2, 0, 0, y1]\n",
    "        return array((z1, z2)), array([z1_dy, z2_dy]), array([z1_dsc, z2_dsc])\n",
    "\n",
    "\n",
    "    ###### 3 layer architecture \n",
    "    \n",
    "    y,  y_x        = layer1(x)\n",
    "    sc, sc_y       = layer2(y)\n",
    "    z,  z_y, z_sc  = layer3(y, sc)\n",
    "    output = z\n",
    "\n",
    "    if len(x.shape) == 1:\n",
    "        # Backprop for Jacobian\n",
    "        out_y = z_sc @ sc_y + z_y\n",
    "        out_x = out_y @ y_x        \n",
    "        Jacobian = out_x.T\n",
    "    else:\n",
    "        Jacobian = None    \n",
    "    \n",
    "    return output, Jacobian\n"
   ]
  },
  {
   "cell_type": "code",
   "execution_count": 15,
   "metadata": {},
   "outputs": [
    {
     "name": "stdout",
     "output_type": "stream",
     "text": [
      "w0 =  [-2.46559308 17.8887398 ] , eta =  [0.0001 0.0005 0.0005]\n"
     ]
    },
    {
     "data": {
      "application/vnd.jupyter.widget-view+json": {
       "model_id": "b17652b6fd6d432fa5162ad777619bd1",
       "version_major": 2,
       "version_minor": 0
      },
      "text/plain": [
       "Canvas(toolbar=Toolbar(toolitems=[('Home', 'Reset original view', 'home', 'home'), ('Back', 'Back to previous …"
      ]
     },
     "metadata": {},
     "output_type": "display_data"
    },
    {
     "data": {
      "application/vnd.jupyter.widget-view+json": {
       "model_id": "65879c47672c40ac8a8564ab7ff911de",
       "version_major": 2,
       "version_minor": 0
      },
      "text/plain": [
       "Canvas(toolbar=Toolbar(toolitems=[('Home', 'Reset original view', 'home', 'home'), ('Back', 'Back to previous …"
      ]
     },
     "metadata": {},
     "output_type": "display_data"
    }
   ],
   "source": [
    "q_s = [0.0, 0.5, 1.0]\n",
    "eta_s = np.array([0.0004, 0.002, 0.002])/4\n",
    "w0 = np.random.randn(2)*9 + np.array([8,8])\n",
    "\n",
    "l_alls, w_alls, w_range = run_exp(landscape, w0, q_s, eta_s, iter = 800 )\n",
    "\n",
    "print('w0 = ', w0, ', eta = ', eta_s)\n",
    "plot_losses(l_alls)\n",
    "x_grid, y_grid = get_plot_grid(w_range, n_grid = 101)\n",
    "plot_3d(landscape, x_grid, y_grid, w_all = w_alls) # zlim=[40,200]\n"
   ]
  },
  {
   "cell_type": "code",
   "execution_count": 15,
   "metadata": {},
   "outputs": [
    {
     "name": "stdout",
     "output_type": "stream",
     "text": [
      "w0 =  [-2.46559308 17.8887398 ] , eta =  [0.0001 0.0005 0.0005]\n"
     ]
    },
    {
     "data": {
      "application/vnd.jupyter.widget-view+json": {
       "model_id": "b17652b6fd6d432fa5162ad777619bd1",
       "version_major": 2,
       "version_minor": 0
      },
      "text/plain": [
       "Canvas(toolbar=Toolbar(toolitems=[('Home', 'Reset original view', 'home', 'home'), ('Back', 'Back to previous …"
      ]
     },
     "metadata": {},
     "output_type": "display_data"
    },
    {
     "data": {
      "application/vnd.jupyter.widget-view+json": {
       "model_id": "65879c47672c40ac8a8564ab7ff911de",
       "version_major": 2,
       "version_minor": 0
      },
      "text/plain": [
       "Canvas(toolbar=Toolbar(toolitems=[('Home', 'Reset original view', 'home', 'home'), ('Back', 'Back to previous …"
      ]
     },
     "metadata": {},
     "output_type": "display_data"
    }
   ],
   "source": []
  },
  {
   "cell_type": "code",
   "execution_count": 30,
   "metadata": {},
   "outputs": [
    {
     "name": "stderr",
     "output_type": "stream",
     "text": [
      "/Users/huh/miniconda3/envs/bfs/lib/python3.6/site-packages/ipykernel_launcher.py:35: RuntimeWarning: More than 20 figures have been opened. Figures created through the pyplot interface (`matplotlib.pyplot.figure`) are retained until explicitly closed and may consume too much memory. (To control this warning, see the rcParam `figure.max_open_warning`).\n"
     ]
    },
    {
     "data": {
      "application/vnd.jupyter.widget-view+json": {
       "model_id": "54a8a3af26c14ea48f4d9be8929be53a",
       "version_major": 2,
       "version_minor": 0
      },
      "text/plain": [
       "Canvas(toolbar=Toolbar(toolitems=[('Home', 'Reset original view', 'home', 'home'), ('Back', 'Back to previous …"
      ]
     },
     "metadata": {},
     "output_type": "display_data"
    },
    {
     "name": "stderr",
     "output_type": "stream",
     "text": [
      "/Users/huh/miniconda3/envs/bfs/lib/python3.6/site-packages/ipykernel_launcher.py:11: RuntimeWarning: More than 20 figures have been opened. Figures created through the pyplot interface (`matplotlib.pyplot.figure`) are retained until explicitly closed and may consume too much memory. (To control this warning, see the rcParam `figure.max_open_warning`).\n",
      "  # This is added back by InteractiveShellApp.init_path()\n"
     ]
    },
    {
     "data": {
      "application/vnd.jupyter.widget-view+json": {
       "model_id": "f606afb7398d4a979676680148b7f5ce",
       "version_major": 2,
       "version_minor": 0
      },
      "text/plain": [
       "Canvas(toolbar=Toolbar(toolitems=[('Home', 'Reset original view', 'home', 'home'), ('Back', 'Back to previous …"
      ]
     },
     "metadata": {},
     "output_type": "display_data"
    }
   ],
   "source": []
  },
  {
   "cell_type": "code",
   "execution_count": 40,
   "metadata": {},
   "outputs": [
    {
     "name": "stderr",
     "output_type": "stream",
     "text": [
      "/Users/huh/miniconda3/envs/bfs/lib/python3.6/site-packages/ipykernel_launcher.py:30: RuntimeWarning: More than 20 figures have been opened. Figures created through the pyplot interface (`matplotlib.pyplot.figure`) are retained until explicitly closed and may consume too much memory. (To control this warning, see the rcParam `figure.max_open_warning`).\n"
     ]
    },
    {
     "data": {
      "application/vnd.jupyter.widget-view+json": {
       "model_id": "1b04c6fe5f654774bd6dd1be7b67bf19",
       "version_major": 2,
       "version_minor": 0
      },
      "text/plain": [
       "Canvas(toolbar=Toolbar(toolitems=[('Home', 'Reset original view', 'home', 'home'), ('Back', 'Back to previous …"
      ]
     },
     "metadata": {},
     "output_type": "display_data"
    },
    {
     "name": "stderr",
     "output_type": "stream",
     "text": [
      "/Users/huh/miniconda3/envs/bfs/lib/python3.6/site-packages/ipykernel_launcher.py:11: RuntimeWarning: More than 20 figures have been opened. Figures created through the pyplot interface (`matplotlib.pyplot.figure`) are retained until explicitly closed and may consume too much memory. (To control this warning, see the rcParam `figure.max_open_warning`).\n",
      "  # This is added back by InteractiveShellApp.init_path()\n"
     ]
    },
    {
     "data": {
      "application/vnd.jupyter.widget-view+json": {
       "model_id": "642a96ffab5c4293bb03196fa6581c87",
       "version_major": 2,
       "version_minor": 0
      },
      "text/plain": [
       "Canvas(toolbar=Toolbar(toolitems=[('Home', 'Reset original view', 'home', 'home'), ('Back', 'Back to previous …"
      ]
     },
     "metadata": {},
     "output_type": "display_data"
    }
   ],
   "source": []
  },
  {
   "cell_type": "code",
   "execution_count": 35,
   "metadata": {},
   "outputs": [
    {
     "name": "stderr",
     "output_type": "stream",
     "text": [
      "/Users/huh/miniconda3/envs/bfs/lib/python3.6/site-packages/ipykernel_launcher.py:30: RuntimeWarning: More than 20 figures have been opened. Figures created through the pyplot interface (`matplotlib.pyplot.figure`) are retained until explicitly closed and may consume too much memory. (To control this warning, see the rcParam `figure.max_open_warning`).\n"
     ]
    },
    {
     "data": {
      "application/vnd.jupyter.widget-view+json": {
       "model_id": "906234a505384f1a9c95f0de75d85410",
       "version_major": 2,
       "version_minor": 0
      },
      "text/plain": [
       "Canvas(toolbar=Toolbar(toolitems=[('Home', 'Reset original view', 'home', 'home'), ('Back', 'Back to previous …"
      ]
     },
     "metadata": {},
     "output_type": "display_data"
    },
    {
     "name": "stderr",
     "output_type": "stream",
     "text": [
      "/Users/huh/miniconda3/envs/bfs/lib/python3.6/site-packages/ipykernel_launcher.py:11: RuntimeWarning: More than 20 figures have been opened. Figures created through the pyplot interface (`matplotlib.pyplot.figure`) are retained until explicitly closed and may consume too much memory. (To control this warning, see the rcParam `figure.max_open_warning`).\n",
      "  # This is added back by InteractiveShellApp.init_path()\n"
     ]
    },
    {
     "data": {
      "application/vnd.jupyter.widget-view+json": {
       "model_id": "80d5b473824c423cb58f8499284866b3",
       "version_major": 2,
       "version_minor": 0
      },
      "text/plain": [
       "Canvas(toolbar=Toolbar(toolitems=[('Home', 'Reset original view', 'home', 'home'), ('Back', 'Back to previous …"
      ]
     },
     "metadata": {},
     "output_type": "display_data"
    }
   ],
   "source": []
  },
  {
   "cell_type": "code",
   "execution_count": 30,
   "metadata": {},
   "outputs": [
    {
     "name": "stderr",
     "output_type": "stream",
     "text": [
      "/Users/huh/miniconda3/envs/bfs/lib/python3.6/site-packages/ipykernel_launcher.py:30: RuntimeWarning: More than 20 figures have been opened. Figures created through the pyplot interface (`matplotlib.pyplot.figure`) are retained until explicitly closed and may consume too much memory. (To control this warning, see the rcParam `figure.max_open_warning`).\n"
     ]
    },
    {
     "data": {
      "application/vnd.jupyter.widget-view+json": {
       "model_id": "8ab921f62a574a21bc230a7db92c5de4",
       "version_major": 2,
       "version_minor": 0
      },
      "text/plain": [
       "Canvas(toolbar=Toolbar(toolitems=[('Home', 'Reset original view', 'home', 'home'), ('Back', 'Back to previous …"
      ]
     },
     "metadata": {},
     "output_type": "display_data"
    },
    {
     "name": "stderr",
     "output_type": "stream",
     "text": [
      "/Users/huh/miniconda3/envs/bfs/lib/python3.6/site-packages/ipykernel_launcher.py:11: RuntimeWarning: More than 20 figures have been opened. Figures created through the pyplot interface (`matplotlib.pyplot.figure`) are retained until explicitly closed and may consume too much memory. (To control this warning, see the rcParam `figure.max_open_warning`).\n",
      "  # This is added back by InteractiveShellApp.init_path()\n"
     ]
    },
    {
     "data": {
      "application/vnd.jupyter.widget-view+json": {
       "model_id": "44c458a816994216ba4db1ee85e69652",
       "version_major": 2,
       "version_minor": 0
      },
      "text/plain": [
       "Canvas(toolbar=Toolbar(toolitems=[('Home', 'Reset original view', 'home', 'home'), ('Back', 'Back to previous …"
      ]
     },
     "metadata": {},
     "output_type": "display_data"
    }
   ],
   "source": []
  },
  {
   "cell_type": "code",
   "execution_count": 23,
   "metadata": {},
   "outputs": [
    {
     "name": "stderr",
     "output_type": "stream",
     "text": [
      "/Users/huh/miniconda3/envs/bfs/lib/python3.6/site-packages/ipykernel_launcher.py:30: RuntimeWarning: More than 20 figures have been opened. Figures created through the pyplot interface (`matplotlib.pyplot.figure`) are retained until explicitly closed and may consume too much memory. (To control this warning, see the rcParam `figure.max_open_warning`).\n"
     ]
    },
    {
     "data": {
      "application/vnd.jupyter.widget-view+json": {
       "model_id": "a179bcc8da284720be6f087ac68b4b9a",
       "version_major": 2,
       "version_minor": 0
      },
      "text/plain": [
       "Canvas(toolbar=Toolbar(toolitems=[('Home', 'Reset original view', 'home', 'home'), ('Back', 'Back to previous …"
      ]
     },
     "metadata": {},
     "output_type": "display_data"
    },
    {
     "name": "stderr",
     "output_type": "stream",
     "text": [
      "/Users/huh/miniconda3/envs/bfs/lib/python3.6/site-packages/ipykernel_launcher.py:11: RuntimeWarning: More than 20 figures have been opened. Figures created through the pyplot interface (`matplotlib.pyplot.figure`) are retained until explicitly closed and may consume too much memory. (To control this warning, see the rcParam `figure.max_open_warning`).\n",
      "  # This is added back by InteractiveShellApp.init_path()\n"
     ]
    },
    {
     "data": {
      "application/vnd.jupyter.widget-view+json": {
       "model_id": "2b076a5ac7634e5eab793797eb0bfd27",
       "version_major": 2,
       "version_minor": 0
      },
      "text/plain": [
       "Canvas(toolbar=Toolbar(toolitems=[('Home', 'Reset original view', 'home', 'home'), ('Back', 'Back to previous …"
      ]
     },
     "metadata": {},
     "output_type": "display_data"
    }
   ],
   "source": []
  },
  {
   "cell_type": "code",
   "execution_count": 22,
   "metadata": {},
   "outputs": [
    {
     "name": "stderr",
     "output_type": "stream",
     "text": [
      "/Users/huh/miniconda3/envs/bfs/lib/python3.6/site-packages/ipykernel_launcher.py:30: RuntimeWarning: More than 20 figures have been opened. Figures created through the pyplot interface (`matplotlib.pyplot.figure`) are retained until explicitly closed and may consume too much memory. (To control this warning, see the rcParam `figure.max_open_warning`).\n"
     ]
    },
    {
     "data": {
      "application/vnd.jupyter.widget-view+json": {
       "model_id": "ea610ed7255e4cf798c7e0e8c958a3f8",
       "version_major": 2,
       "version_minor": 0
      },
      "text/plain": [
       "Canvas(toolbar=Toolbar(toolitems=[('Home', 'Reset original view', 'home', 'home'), ('Back', 'Back to previous …"
      ]
     },
     "metadata": {},
     "output_type": "display_data"
    },
    {
     "name": "stderr",
     "output_type": "stream",
     "text": [
      "/Users/huh/miniconda3/envs/bfs/lib/python3.6/site-packages/ipykernel_launcher.py:11: RuntimeWarning: More than 20 figures have been opened. Figures created through the pyplot interface (`matplotlib.pyplot.figure`) are retained until explicitly closed and may consume too much memory. (To control this warning, see the rcParam `figure.max_open_warning`).\n",
      "  # This is added back by InteractiveShellApp.init_path()\n"
     ]
    },
    {
     "data": {
      "application/vnd.jupyter.widget-view+json": {
       "model_id": "9d432c1f684d44d0a15a5fa77ebcf44a",
       "version_major": 2,
       "version_minor": 0
      },
      "text/plain": [
       "Canvas(toolbar=Toolbar(toolitems=[('Home', 'Reset original view', 'home', 'home'), ('Back', 'Back to previous …"
      ]
     },
     "metadata": {},
     "output_type": "display_data"
    }
   ],
   "source": []
  },
  {
   "cell_type": "code",
   "execution_count": 21,
   "metadata": {},
   "outputs": [
    {
     "name": "stderr",
     "output_type": "stream",
     "text": [
      "/Users/huh/miniconda3/envs/bfs/lib/python3.6/site-packages/ipykernel_launcher.py:30: RuntimeWarning: More than 20 figures have been opened. Figures created through the pyplot interface (`matplotlib.pyplot.figure`) are retained until explicitly closed and may consume too much memory. (To control this warning, see the rcParam `figure.max_open_warning`).\n"
     ]
    },
    {
     "data": {
      "application/vnd.jupyter.widget-view+json": {
       "model_id": "09e8213855244f56bb6749b8b3804fb5",
       "version_major": 2,
       "version_minor": 0
      },
      "text/plain": [
       "Canvas(toolbar=Toolbar(toolitems=[('Home', 'Reset original view', 'home', 'home'), ('Back', 'Back to previous …"
      ]
     },
     "metadata": {},
     "output_type": "display_data"
    },
    {
     "name": "stderr",
     "output_type": "stream",
     "text": [
      "/Users/huh/miniconda3/envs/bfs/lib/python3.6/site-packages/ipykernel_launcher.py:11: RuntimeWarning: More than 20 figures have been opened. Figures created through the pyplot interface (`matplotlib.pyplot.figure`) are retained until explicitly closed and may consume too much memory. (To control this warning, see the rcParam `figure.max_open_warning`).\n",
      "  # This is added back by InteractiveShellApp.init_path()\n"
     ]
    },
    {
     "data": {
      "application/vnd.jupyter.widget-view+json": {
       "model_id": "23c80bf1eddc485b903217de94be9f0c",
       "version_major": 2,
       "version_minor": 0
      },
      "text/plain": [
       "Canvas(toolbar=Toolbar(toolitems=[('Home', 'Reset original view', 'home', 'home'), ('Back', 'Back to previous …"
      ]
     },
     "metadata": {},
     "output_type": "display_data"
    }
   ],
   "source": []
  },
  {
   "cell_type": "code",
   "execution_count": 18,
   "metadata": {},
   "outputs": [
    {
     "data": {
      "application/vnd.jupyter.widget-view+json": {
       "model_id": "d0ae346e443347e9868aa0c9ce5e63d7",
       "version_major": 2,
       "version_minor": 0
      },
      "text/plain": [
       "Canvas(toolbar=Toolbar(toolitems=[('Home', 'Reset original view', 'home', 'home'), ('Back', 'Back to previous …"
      ]
     },
     "metadata": {},
     "output_type": "display_data"
    },
    {
     "data": {
      "application/vnd.jupyter.widget-view+json": {
       "model_id": "fe9a40671b5b48d9a37a374e712dbb2f",
       "version_major": 2,
       "version_minor": 0
      },
      "text/plain": [
       "Canvas(toolbar=Toolbar(toolitems=[('Home', 'Reset original view', 'home', 'home'), ('Back', 'Back to previous …"
      ]
     },
     "metadata": {},
     "output_type": "display_data"
    }
   ],
   "source": [
    "iter = 5000\n",
    "w0 = np.random.randn(2)*9 + np.array([8,8])\n",
    "w_alls = []; l_alls = []; w_mins = []; w_maxs = []\n",
    "q_s = [0.0, 0.5, 1.0]\n",
    "eta_s = [0.0001/2, 0.001/4, 0.005/4]\n",
    "for q, eta in zip(q_s, eta_s):\n",
    "#     print(q, eta )\n",
    "    w = w0.copy()\n",
    "    w_all = [w.copy()]\n",
    "    for _ in range(iter):\n",
    "        loss, err, jac = landscape_loss(w, freq = None, amp = None, py = np)\n",
    "\n",
    "        w = update_2d(w, err, jac, eta = eta, q=q) \n",
    "        w_all.append(w.copy())\n",
    "\n",
    "    w_all = np.stack(w_all,axis=1)\n",
    "    \n",
    "    l_all, _, _ = landscape_loss(w_all)\n",
    "    w_alls.append(w_all)\n",
    "    l_alls.append(l_all)\n",
    "    w_mins.append(w_all.min(axis=1))\n",
    "    w_maxs.append(w_all.max(axis=1))\n",
    "\n",
    "w_min, w_max = np.stack(w_mins,axis=1).min(axis=1), np.stack(w_maxs,axis=1).max(axis=1)\n",
    "diff = (w_max - w_min) /2\n",
    "cent = (w_max + w_min) / 2 \n",
    "# min_max[0]-3,min_max[1]+3\n",
    "\n",
    "# plt.figure(); plt.semilogy(l_alls); plt.show()\n",
    "plt.figure(); \n",
    "for l in l_alls:\n",
    "    plt.semilogy(l); \n",
    "plt.show()\n",
    "\n",
    "\n",
    "dif = diff.max()*1.25\n",
    "x0 = np.linspace(cent[0]-dif,cent[0]+dif, 101)\n",
    "y0 = np.linspace(cent[1]-dif,cent[1]+dif, 101)\n",
    "\n",
    "plot_3d(landscape_loss, x0,y0, w_all = w_alls) # zlim=[40,200])\n",
    "# plot_3d(landscape_loss, np.linspace(-10,20, 201), w_all = w_alls) # zlim=[40,200])\n"
   ]
  },
  {
   "cell_type": "code",
   "execution_count": 17,
   "metadata": {},
   "outputs": [
    {
     "data": {
      "application/vnd.jupyter.widget-view+json": {
       "model_id": "cfc6736586834b4891d39991760b0c1d",
       "version_major": 2,
       "version_minor": 0
      },
      "text/plain": [
       "Canvas(toolbar=Toolbar(toolitems=[('Home', 'Reset original view', 'home', 'home'), ('Back', 'Back to previous …"
      ]
     },
     "metadata": {},
     "output_type": "display_data"
    },
    {
     "data": {
      "application/vnd.jupyter.widget-view+json": {
       "model_id": "3d5709a68f2e45b89027662cf0803c47",
       "version_major": 2,
       "version_minor": 0
      },
      "text/plain": [
       "Canvas(toolbar=Toolbar(toolitems=[('Home', 'Reset original view', 'home', 'home'), ('Back', 'Back to previous …"
      ]
     },
     "metadata": {},
     "output_type": "display_data"
    }
   ],
   "source": []
  },
  {
   "cell_type": "code",
   "execution_count": 16,
   "metadata": {},
   "outputs": [
    {
     "data": {
      "application/vnd.jupyter.widget-view+json": {
       "model_id": "bed6357488f14f429f31460f54183be5",
       "version_major": 2,
       "version_minor": 0
      },
      "text/plain": [
       "Canvas(toolbar=Toolbar(toolitems=[('Home', 'Reset original view', 'home', 'home'), ('Back', 'Back to previous …"
      ]
     },
     "metadata": {},
     "output_type": "display_data"
    },
    {
     "data": {
      "application/vnd.jupyter.widget-view+json": {
       "model_id": "d56c1a8f2974495293e03e6537747466",
       "version_major": 2,
       "version_minor": 0
      },
      "text/plain": [
       "Canvas(toolbar=Toolbar(toolitems=[('Home', 'Reset original view', 'home', 'home'), ('Back', 'Back to previous …"
      ]
     },
     "metadata": {},
     "output_type": "display_data"
    }
   ],
   "source": []
  },
  {
   "cell_type": "code",
   "execution_count": null,
   "metadata": {},
   "outputs": [],
   "source": []
  },
  {
   "cell_type": "code",
   "execution_count": null,
   "metadata": {},
   "outputs": [],
   "source": []
  },
  {
   "cell_type": "code",
   "execution_count": null,
   "metadata": {},
   "outputs": [],
   "source": []
  },
  {
   "cell_type": "code",
   "execution_count": null,
   "metadata": {},
   "outputs": [],
   "source": []
  },
  {
   "cell_type": "code",
   "execution_count": 14,
   "metadata": {},
   "outputs": [
    {
     "data": {
      "application/vnd.jupyter.widget-view+json": {
       "model_id": "ab3672ae06804ca6994fb62190b340c3",
       "version_major": 2,
       "version_minor": 0
      },
      "text/plain": [
       "Canvas(toolbar=Toolbar(toolitems=[('Home', 'Reset original view', 'home', 'home'), ('Back', 'Back to previous …"
      ]
     },
     "metadata": {},
     "output_type": "display_data"
    },
    {
     "data": {
      "application/vnd.jupyter.widget-view+json": {
       "model_id": "b69bfb01d6a54b4fb51f76c15b64239a",
       "version_major": 2,
       "version_minor": 0
      },
      "text/plain": [
       "Canvas(toolbar=Toolbar(toolitems=[('Home', 'Reset original view', 'home', 'home'), ('Back', 'Back to previous …"
      ]
     },
     "metadata": {},
     "output_type": "display_data"
    }
   ],
   "source": []
  },
  {
   "cell_type": "code",
   "execution_count": null,
   "metadata": {},
   "outputs": [],
   "source": []
  },
  {
   "cell_type": "code",
   "execution_count": null,
   "metadata": {},
   "outputs": [],
   "source": []
  },
  {
   "cell_type": "code",
   "execution_count": null,
   "metadata": {},
   "outputs": [],
   "source": []
  },
  {
   "cell_type": "code",
   "execution_count": 13,
   "metadata": {},
   "outputs": [
    {
     "data": {
      "application/vnd.jupyter.widget-view+json": {
       "model_id": "f12ce9e5a73f4f42965a960b7fdb9474",
       "version_major": 2,
       "version_minor": 0
      },
      "text/plain": [
       "Canvas(toolbar=Toolbar(toolitems=[('Home', 'Reset original view', 'home', 'home'), ('Back', 'Back to previous …"
      ]
     },
     "metadata": {},
     "output_type": "display_data"
    },
    {
     "data": {
      "application/vnd.jupyter.widget-view+json": {
       "model_id": "bfd60043da9c472189e3954a9e386e2d",
       "version_major": 2,
       "version_minor": 0
      },
      "text/plain": [
       "Canvas(toolbar=Toolbar(toolitems=[('Home', 'Reset original view', 'home', 'home'), ('Back', 'Back to previous …"
      ]
     },
     "metadata": {},
     "output_type": "display_data"
    }
   ],
   "source": []
  },
  {
   "cell_type": "code",
   "execution_count": 179,
   "metadata": {},
   "outputs": [
    {
     "name": "stderr",
     "output_type": "stream",
     "text": [
      "/Users/huh/miniconda3/envs/bfs/lib/python3.6/site-packages/ipykernel_launcher.py:30: RuntimeWarning: More than 20 figures have been opened. Figures created through the pyplot interface (`matplotlib.pyplot.figure`) are retained until explicitly closed and may consume too much memory. (To control this warning, see the rcParam `figure.max_open_warning`).\n"
     ]
    },
    {
     "data": {
      "application/vnd.jupyter.widget-view+json": {
       "model_id": "7709f51e168a4c9cb33b59cd21915722",
       "version_major": 2,
       "version_minor": 0
      },
      "text/plain": [
       "Canvas(toolbar=Toolbar(toolitems=[('Home', 'Reset original view', 'home', 'home'), ('Back', 'Back to previous …"
      ]
     },
     "metadata": {},
     "output_type": "display_data"
    },
    {
     "name": "stderr",
     "output_type": "stream",
     "text": [
      "/Users/huh/miniconda3/envs/bfs/lib/python3.6/site-packages/ipykernel_launcher.py:11: RuntimeWarning: More than 20 figures have been opened. Figures created through the pyplot interface (`matplotlib.pyplot.figure`) are retained until explicitly closed and may consume too much memory. (To control this warning, see the rcParam `figure.max_open_warning`).\n",
      "  # This is added back by InteractiveShellApp.init_path()\n"
     ]
    },
    {
     "data": {
      "application/vnd.jupyter.widget-view+json": {
       "model_id": "e0bcfb97e93d4ec4bf947ef782466cd8",
       "version_major": 2,
       "version_minor": 0
      },
      "text/plain": [
       "Canvas(toolbar=Toolbar(toolitems=[('Home', 'Reset original view', 'home', 'home'), ('Back', 'Back to previous …"
      ]
     },
     "metadata": {},
     "output_type": "display_data"
    }
   ],
   "source": []
  },
  {
   "cell_type": "code",
   "execution_count": null,
   "metadata": {},
   "outputs": [],
   "source": []
  },
  {
   "cell_type": "code",
   "execution_count": null,
   "metadata": {},
   "outputs": [],
   "source": []
  },
  {
   "cell_type": "code",
   "execution_count": null,
   "metadata": {},
   "outputs": [],
   "source": []
  }
 ],
 "metadata": {
  "kernelspec": {
   "display_name": "Python [conda env:bfs] *",
   "language": "python",
   "name": "conda-env-bfs-py"
  },
  "language_info": {
   "codemirror_mode": {
    "name": "ipython",
    "version": 3
   },
   "file_extension": ".py",
   "mimetype": "text/x-python",
   "name": "python",
   "nbconvert_exporter": "python",
   "pygments_lexer": "ipython3",
   "version": "3.6.7"
  }
 },
 "nbformat": 4,
 "nbformat_minor": 4
}
