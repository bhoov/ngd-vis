{
 "cells": [
  {
   "cell_type": "code",
   "execution_count": null,
   "metadata": {},
   "outputs": [],
   "source": []
  },
  {
   "cell_type": "code",
   "execution_count": 3,
   "metadata": {},
   "outputs": [],
   "source": [
    "def update_1d(w, err, jac, eta = 1, q_=0):\n",
    "    update = jac ** (1 - q) * err\n",
    "    w -= eta * update\n",
    "    return w\n",
    "\n",
    "def update_2d(w, err, jac, eta = 1, q_=0):\n",
    "    U, A, V = svd_2d(jac)\n",
    "    update = U * (A ** (1 - q)) @ V @ err\n",
    "    w -= eta * update\n",
    "    return w"
   ]
  },
  {
   "cell_type": "code",
   "execution_count": 5,
   "metadata": {},
   "outputs": [],
   "source": [
    "def get_orth_matrix(S):\n",
    "    theta   = 0.5*np.arctan2(S[0,1]+S[1,0], S[0,0]-S[1,1])   \n",
    "    Cos, Sin = np.cos(theta), np.sin(theta)\n",
    "    return np.array([[Cos, -Sin], [Sin, Cos]])\n",
    "    \n",
    "def svd_2d(A):   #   SVD of 2x2 matrix A:  U and V are orthogonal, D is diagonal, and A=U*D@V\n",
    "    U = get_orth_matrix(A @ A.T)\n",
    "    V = get_orth_matrix(A.T @ A)\n",
    "    d = np.diag(U.T @ A @ V)\n",
    "    \n",
    "    # sign correction\n",
    "    V = np.sign(d) * V\n",
    "    d = np.abs(d)\n",
    "    \n",
    "    return U, d, V.T\n",
    "\n",
    "# A= np.random.randn(2,2)\n",
    "# U, d, V =svd_2d(A)\n",
    "# print(A - U * d @ V)"
   ]
  }
 ],
 "metadata": {
  "kernelspec": {
   "display_name": "Python [conda env:bfs] *",
   "language": "python",
   "name": "conda-env-bfs-py"
  },
  "language_info": {
   "codemirror_mode": {
    "name": "ipython",
    "version": 3
   },
   "file_extension": ".py",
   "mimetype": "text/x-python",
   "name": "python",
   "nbconvert_exporter": "python",
   "pygments_lexer": "ipython3",
   "version": "3.6.7"
  }
 },
 "nbformat": 4,
 "nbformat_minor": 4
}
