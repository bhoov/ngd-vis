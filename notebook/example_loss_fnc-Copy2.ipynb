{
 "cells": [
  {
   "cell_type": "code",
   "execution_count": 1,
   "metadata": {},
   "outputs": [],
   "source": [
    "%matplotlib inline\n",
    "  \n",
    "import sympy as sym\n",
    "import numpy as np\n",
    "from functools import partial\n",
    "\n",
    "from mpl_toolkits.mplot3d import Axes3D\n",
    "import matplotlib.pyplot as plt\n",
    "from matplotlib import cm\n",
    "from matplotlib.ticker import LinearLocator, FormatStrFormatter"
   ]
  },
  {
   "cell_type": "markdown",
   "metadata": {},
   "source": [
    "# loss functions"
   ]
  },
  {
   "cell_type": "code",
   "execution_count": 2,
   "metadata": {},
   "outputs": [],
   "source": [
    "def shallownet_1d(w, a=1):\n",
    "    f = a * w             # input-output map\n",
    "    j = a                 # Jacobian of map\n",
    "    err = f - 0           # target = 0\n",
    "    loss = err ** 2 /2\n",
    "    return loss, err, j \n",
    "\n",
    "def shallownet_2d(w, A = np.array([[1,2],[2,1]]) ):\n",
    "    f = A @ w             # input-output map\n",
    "    j = A                 # Jacobian of map\n",
    "    err = f - 0           # target = 0\n",
    "    loss = (err ** 2 /2).sum(axis=0)\n",
    "    return loss, err, j \n",
    "\n",
    "def deepnet_1d(w, d=1):\n",
    "    f = w ** d              # input-output map\n",
    "    j = d * w ** (d-1)      # Jacobian of map\n",
    "    err = f - 1             # target = 1\n",
    "    loss = err ** 2 /2\n",
    "    return loss, err, j "
   ]
  },
  {
   "cell_type": "code",
   "execution_count": 3,
   "metadata": {},
   "outputs": [],
   "source": [
    "def landscape(xy, py = np, n = 4, freq = None, a=None):\n",
    "    if py == sym:\n",
    "        x1,x2 = xy[0], xy[1]\n",
    "    else:\n",
    "        x1,x2 = xy[0,:], xy[1,:]\n",
    "    \n",
    "    if freq is None:\n",
    "        freq = np.exp(np.linspace(-2,1,n))  \n",
    "    if a is None:\n",
    "        a = 1/freq \n",
    "    n = len(freq)\n",
    "\n",
    "#     y1, y2 = x1.copy(), x2.copy()\n",
    "    y1, y2 = x1 + 0, x2 + 0\n",
    "    for i in range(n):\n",
    "        y1 += a[i]* py.sin(freq[i]*x2) ;        y2 += a[i]* py.cos(freq[i]*x1) \n",
    "\n",
    "    c1, s1, c2, s2 = 0, 0, 0, 0 \n",
    "    for i in range(n):\n",
    "        s1 += a[i]* py.sin(freq[i]*y1) ;        c1 += a[i]* py.cos(freq[i]*y1) \n",
    "        s2 += a[i]* py.sin(freq[i]*y2) ;        c2 += a[i]* py.cos(freq[i]*y2) \n",
    "\n",
    "    z1 = y1 * s2 + c1 * y2  \n",
    "    z2 = s1 * y2 + y1 * c2  \n",
    "    \n",
    "    if py == sym:\n",
    "        err = sym.Array([z1, z2])\n",
    "    else:\n",
    "        err = np.array([z1, z2])\n",
    "    \n",
    "    loss = (z1**2 + z2**2)/2\n",
    "        \n",
    "    return loss, err, None #, freq, a\n",
    "\n",
    "def landscape_simple(xy, py):\n",
    "#     x1,x2 = xy[0,:], xy[1,:]\n",
    "    x1,x2 = xy[0], xy[1]\n",
    "\n",
    "    y1 = x1 + py.sin(x2);    y2 = py.cos(x1) + x2 \n",
    "    z1 = y1 * py.sin(y2);    z2 = py.cos(y1) * y2 \n",
    "    \n",
    "    loss = z1 ** 2 + z2 ** 2 \n",
    "    return loss, None, None\n",
    "    \n",
    "def landscape_simple2(xy):\n",
    "    x1,x2 = xy[0,:], xy[1,:]\n",
    "\n",
    "    y1 = x1 + np.sin(x2);    y2 = np.cos(x1) + x2 \n",
    "    z1 = y1 * np.sin(y2) + np.cos(y1) * y2; \n",
    "    z2 = np.sin(y1) * y2 + y1 * np.cos(y2) \n",
    "    \n",
    "    loss = z1 ** 2 + z2 ** 2 \n",
    "    return loss, None, None\n"
   ]
  },
  {
   "cell_type": "markdown",
   "metadata": {},
   "source": [
    "# sympy testing"
   ]
  },
  {
   "cell_type": "code",
   "execution_count": 4,
   "metadata": {},
   "outputs": [
    {
     "name": "stdout",
     "output_type": "stream",
     "text": [
      "(w**3 - 1)**2/2\n",
      "3*w**2 3*w**2\n"
     ]
    }
   ],
   "source": [
    "w = sym.Symbol('w')\n",
    "l, err, j = deepnet_1d(w,d=3)\n",
    "\n",
    "print(l)\n",
    "print(j, sym.diff(err, w))\n"
   ]
  },
  {
   "cell_type": "code",
   "execution_count": 5,
   "metadata": {},
   "outputs": [
    {
     "name": "stdout",
     "output_type": "stream",
     "text": [
      "[2*x, 2*y]\n",
      "[x**2, y**2]\n",
      "[1, 0]\n"
     ]
    }
   ],
   "source": [
    "x,y = sym.symbols('x y'); xy = sym.Array([x,y])\n",
    "f1,f2 = sym.symbols('f1 f2'); \n",
    "a1,a2 = sym.symbols('a1 a2'); \n",
    "\n",
    "print(xy*2)\n",
    "print(xy.applyfunc(lambda x: x**2))   \n",
    "print(xy.diff(x))"
   ]
  },
  {
   "cell_type": "code",
   "execution_count": 6,
   "metadata": {},
   "outputs": [
    {
     "name": "stdout",
     "output_type": "stream",
     "text": [
      "a1*sin(f1*(a1*cos(f1*x) + a2*cos(f2*x) + y)) + a2*sin(f2*(a1*cos(f1*x) + a2*cos(f2*x) + y)) + (a1*cos(f1*(a1*sin(f1*y) + a2*sin(f2*y) + x)) + a2*cos(f2*(a1*sin(f1*y) + a2*sin(f2*y) + x)))*(-a1*f1*sin(f1*x) - a2*f2*sin(f2*x)) + (-a1*f1*sin(f1*(a1*sin(f1*y) + a2*sin(f2*y) + x)) - a2*f2*sin(f2*(a1*sin(f1*y) + a2*sin(f2*y) + x)))*(a1*cos(f1*x) + a2*cos(f2*x) + y) + (a1*f1*(-a1*f1*sin(f1*x) - a2*f2*sin(f2*x))*cos(f1*(a1*cos(f1*x) + a2*cos(f2*x) + y)) + a2*f2*(-a1*f1*sin(f1*x) - a2*f2*sin(f2*x))*cos(f2*(a1*cos(f1*x) + a2*cos(f2*x) + y)))*(a1*sin(f1*y) + a2*sin(f2*y) + x)\n"
     ]
    }
   ],
   "source": [
    "l, err, _ = landscape(xy, py=sym, freq = [f1, f2], a = [a1, a2])\n",
    "# print(l)\n",
    "# print(err)\n",
    "j = sym.diff(err, xy)\n",
    "print(j[0,0])\n",
    "# print(j[1,0])\n",
    "# print(j[0,1])\n",
    "# print(j[1,1])\n"
   ]
  },
  {
   "cell_type": "markdown",
   "metadata": {},
   "source": [
    "# Plotting"
   ]
  },
  {
   "cell_type": "code",
   "execution_count": 7,
   "metadata": {
    "jupyter": {
     "source_hidden": true
    }
   },
   "outputs": [
    {
     "data": {
      "application/vnd.jupyter.widget-view+json": {
       "model_id": "77238c9040b9423a904e12176bd646bd",
       "version_major": 2,
       "version_minor": 0
      },
      "text/plain": [
       "Canvas(toolbar=Toolbar(toolitems=[('Home', 'Reset original view', 'home', 'home'), ('Back', 'Back to previous …"
      ]
     },
     "metadata": {},
     "output_type": "display_data"
    }
   ],
   "source": [
    "%matplotlib widget\n",
    "fig = plt.figure()\n",
    "ax = fig.gca(projection='3d')\n",
    "\n",
    "# Make data.\n",
    "X = np.arange(-5, 5, 0.25)\n",
    "X, Y = np.meshgrid(X, X)\n",
    "R = np.sqrt(X**2 + Y**2)\n",
    "Z = np.sin(R)\n",
    "\n",
    "# Plot the surface.\n",
    "surf = ax.plot_surface(X, Y, Z, cmap=cm.coolwarm,\n",
    "                       linewidth=0, antialiased=False)\n",
    "\n",
    "# Customize the z axis.\n",
    "ax.set_zlim(-1.01, 1.01)\n",
    "ax.zaxis.set_major_locator(LinearLocator(10))\n",
    "ax.zaxis.set_major_formatter(FormatStrFormatter('%.02f'))\n",
    "\n",
    "# Add a color bar which maps values to colors.\n",
    "fig.colorbar(surf, shrink=0.5, aspect=5)\n",
    "\n",
    "plt.show()"
   ]
  },
  {
   "cell_type": "code",
   "execution_count": 12,
   "metadata": {},
   "outputs": [],
   "source": [
    "%matplotlib widget\n",
    "def plot_3d(fnc,  x0, y0 = None, zlim = None):\n",
    "    if y0 is None:\n",
    "        y0 = x0\n",
    "        \n",
    "    x, y = np.meshgrid(x0, y0); nx = len(x0); ny = len(y0)\n",
    "    \n",
    "    xy = np.concatenate((x.reshape([1,nx*ny]),y.reshape([1,nx*ny])),axis=0)\n",
    "\n",
    "    outputs = fnc(xy)\n",
    "    z = outputs[0].reshape([ny,nx])\n",
    "\n",
    "    fig = plt.figure()\n",
    "    # plt.contour(x,y,z, 50, cmap='binary')\n",
    "    ax = plt.axes(projection='3d')\n",
    "#     ax.contour3D(x,y,np.sqrt(z), 50, cmap='binary')\n",
    "    surf = ax.plot_surface(x,y,np.sqrt(z), rstride=5, cstride=5, cmap=cm.hot,\n",
    "                           linewidth=0, antialiased=False)\n",
    "\n",
    "    # Customize the z axis.\n",
    "    if zlim is not None:\n",
    "        ax.set_zlim(zlim)\n",
    "    ax.zaxis.set_major_locator(LinearLocator(10))\n",
    "    ax.zaxis.set_major_formatter(FormatStrFormatter('%.02f'))\n",
    "\n",
    "    # Add a color bar which maps values to colors.\n",
    "    fig.colorbar(surf, shrink=0.5, aspect=5)\n",
    "\n",
    "    ax.set_xlabel('x');ax.set_ylabel('y'); ax.set_zlabel('loss');\n",
    "\n",
    "    plt.show()    "
   ]
  },
  {
   "cell_type": "code",
   "execution_count": 13,
   "metadata": {},
   "outputs": [
    {
     "data": {
      "image/png": "[encoded data removed]",
      "text/plain": [
       "<Figure size 432x288 with 1 Axes>"
      ]
     },
     "metadata": {
      "needs_background": "light"
     },
     "output_type": "display_data"
    }
   ],
   "source": [
    "%matplotlib inline\n",
    "x = np.linspace(-2, 2, 301)\n",
    "for a in [1/1.4, 1, 1.4]:\n",
    "    y, _, _ = shallownet_1d(x, a)\n",
    "    plt.plot(x, y)\n",
    "    \n",
    "plt.show()"
   ]
  },
  {
   "cell_type": "code",
   "execution_count": 14,
   "metadata": {},
   "outputs": [
    {
     "data": {
      "image/png": "[encoded data removed]",
      "text/plain": [
       "<Figure size 432x288 with 1 Axes>"
      ]
     },
     "metadata": {
      "needs_background": "light"
     },
     "output_type": "display_data"
    }
   ],
   "source": [
    "x = np.linspace(0, 1.25, 301)\n",
    "for d in range(1,5):\n",
    "    y, _, _ = deepnet_1d(x, d)\n",
    "    plt.plot(x, y)\n",
    "    \n",
    "plt.show()"
   ]
  },
  {
   "cell_type": "code",
   "execution_count": 15,
   "metadata": {},
   "outputs": [
    {
     "data": {
      "application/vnd.jupyter.widget-view+json": {
       "model_id": "08ac85671c44475899093814c91dd42b",
       "version_major": 2,
       "version_minor": 0
      },
      "text/plain": [
       "Canvas(toolbar=Toolbar(toolitems=[('Home', 'Reset original view', 'home', 'home'), ('Back', 'Back to previous …"
      ]
     },
     "metadata": {},
     "output_type": "display_data"
    },
    {
     "data": {
      "application/vnd.jupyter.widget-view+json": {
       "model_id": "f3dc6f9094e548bc83cfc490ace5903d",
       "version_major": 2,
       "version_minor": 0
      },
      "text/plain": [
       "Canvas(toolbar=Toolbar(toolitems=[('Home', 'Reset original view', 'home', 'home'), ('Back', 'Back to previous …"
      ]
     },
     "metadata": {},
     "output_type": "display_data"
    }
   ],
   "source": [
    "%matplotlib widget\n",
    "nx = 101;  x0 = np.linspace(-2, 2, nx)\n",
    "plot_3d(shallownet_2d, x0)\n",
    "\n",
    "fnc = partial(shallownet_2d,  A=np.array([[-1,2],[2,-1]]) )\n",
    "plot_3d(fnc, x0)\n"
   ]
  },
  {
   "cell_type": "code",
   "execution_count": 16,
   "metadata": {},
   "outputs": [
    {
     "data": {
      "application/vnd.jupyter.widget-view+json": {
       "model_id": "8e296411bf204af181d13055dce493ad",
       "version_major": 2,
       "version_minor": 0
      },
      "text/plain": [
       "Canvas(toolbar=Toolbar(toolitems=[('Home', 'Reset original view', 'home', 'home'), ('Back', 'Back to previous …"
      ]
     },
     "metadata": {},
     "output_type": "display_data"
    }
   ],
   "source": [
    "\n",
    "x0 = np.linspace(0,16, 401);\n",
    "plot_3d(landscape, x0, zlim=[40,200])"
   ]
  },
  {
   "cell_type": "code",
   "execution_count": 17,
   "metadata": {},
   "outputs": [
    {
     "data": {
      "application/vnd.jupyter.widget-view+json": {
       "model_id": "12ccbb4ac89f49dda8313c74e222871f",
       "version_major": 2,
       "version_minor": 0
      },
      "text/plain": [
       "Canvas(toolbar=Toolbar(toolitems=[('Home', 'Reset original view', 'home', 'home'), ('Back', 'Back to previous …"
      ]
     },
     "metadata": {},
     "output_type": "display_data"
    }
   ],
   "source": [
    "# x0 = np.linspace(-2,5, 201)\n",
    "# plot_3d(landscape_simple, x0)\n",
    "\n",
    "# x0 = np.linspace(-4,10, 201)\n",
    "# plot_3d(landscape_simple2, x0)\n",
    "\n",
    "x0 = np.linspace(0,20, 301); #y0 = np.linspace(-20, 0, 201);\n",
    "plot_3d(landscape, x0)"
   ]
  },
  {
   "cell_type": "code",
   "execution_count": 20,
   "metadata": {},
   "outputs": [
    {
     "ename": "TypeError",
     "evalue": "landscape_simple() missing 1 required positional argument: 'py'",
     "output_type": "error",
     "traceback": [
      "\u001b[0;31m---------------------------------------------------------------------------\u001b[0m",
      "\u001b[0;31mTypeError\u001b[0m                                 Traceback (most recent call last)",
      "\u001b[0;32m<ipython-input-20-00718910649a>\u001b[0m in \u001b[0;36m<module>\u001b[0;34m\u001b[0m\n\u001b[1;32m      1\u001b[0m \u001b[0mx0\u001b[0m \u001b[0;34m=\u001b[0m \u001b[0mnp\u001b[0m\u001b[0;34m.\u001b[0m\u001b[0mlinspace\u001b[0m\u001b[0;34m(\u001b[0m\u001b[0;34m-\u001b[0m\u001b[0;36m2\u001b[0m\u001b[0;34m,\u001b[0m\u001b[0;36m5\u001b[0m\u001b[0;34m,\u001b[0m \u001b[0;36m201\u001b[0m\u001b[0;34m)\u001b[0m\u001b[0;34m\u001b[0m\u001b[0;34m\u001b[0m\u001b[0m\n\u001b[0;32m----> 2\u001b[0;31m \u001b[0mplot_3d\u001b[0m\u001b[0;34m(\u001b[0m\u001b[0mlandscape_simple\u001b[0m\u001b[0;34m,\u001b[0m \u001b[0mx0\u001b[0m\u001b[0;34m,\u001b[0m \u001b[0mx0\u001b[0m\u001b[0;34m,\u001b[0m \u001b[0msym\u001b[0m\u001b[0;34m)\u001b[0m\u001b[0;34m\u001b[0m\u001b[0;34m\u001b[0m\u001b[0m\n\u001b[0m\u001b[1;32m      3\u001b[0m \u001b[0;34m\u001b[0m\u001b[0m\n\u001b[1;32m      4\u001b[0m \u001b[0mx0\u001b[0m \u001b[0;34m=\u001b[0m \u001b[0mnp\u001b[0m\u001b[0;34m.\u001b[0m\u001b[0mlinspace\u001b[0m\u001b[0;34m(\u001b[0m\u001b[0;34m-\u001b[0m\u001b[0;36m4\u001b[0m\u001b[0;34m,\u001b[0m\u001b[0;36m10\u001b[0m\u001b[0;34m,\u001b[0m \u001b[0;36m201\u001b[0m\u001b[0;34m)\u001b[0m\u001b[0;34m\u001b[0m\u001b[0;34m\u001b[0m\u001b[0m\n\u001b[1;32m      5\u001b[0m \u001b[0mplot_3d\u001b[0m\u001b[0;34m(\u001b[0m\u001b[0mlandscape_simple2\u001b[0m\u001b[0;34m,\u001b[0m \u001b[0mx0\u001b[0m\u001b[0;34m,\u001b[0m \u001b[0mx0\u001b[0m\u001b[0;34m,\u001b[0m \u001b[0msym\u001b[0m\u001b[0;34m)\u001b[0m\u001b[0;34m\u001b[0m\u001b[0;34m\u001b[0m\u001b[0m\n",
      "\u001b[0;32m<ipython-input-12-0dbf00904913>\u001b[0m in \u001b[0;36mplot_3d\u001b[0;34m(fnc, x0, y0, zlim)\u001b[0m\n\u001b[1;32m      8\u001b[0m     \u001b[0mxy\u001b[0m \u001b[0;34m=\u001b[0m \u001b[0mnp\u001b[0m\u001b[0;34m.\u001b[0m\u001b[0mconcatenate\u001b[0m\u001b[0;34m(\u001b[0m\u001b[0;34m(\u001b[0m\u001b[0mx\u001b[0m\u001b[0;34m.\u001b[0m\u001b[0mreshape\u001b[0m\u001b[0;34m(\u001b[0m\u001b[0;34m[\u001b[0m\u001b[0;36m1\u001b[0m\u001b[0;34m,\u001b[0m\u001b[0mnx\u001b[0m\u001b[0;34m*\u001b[0m\u001b[0mny\u001b[0m\u001b[0;34m]\u001b[0m\u001b[0;34m)\u001b[0m\u001b[0;34m,\u001b[0m\u001b[0my\u001b[0m\u001b[0;34m.\u001b[0m\u001b[0mreshape\u001b[0m\u001b[0;34m(\u001b[0m\u001b[0;34m[\u001b[0m\u001b[0;36m1\u001b[0m\u001b[0;34m,\u001b[0m\u001b[0mnx\u001b[0m\u001b[0;34m*\u001b[0m\u001b[0mny\u001b[0m\u001b[0;34m]\u001b[0m\u001b[0;34m)\u001b[0m\u001b[0;34m)\u001b[0m\u001b[0;34m,\u001b[0m\u001b[0maxis\u001b[0m\u001b[0;34m=\u001b[0m\u001b[0;36m0\u001b[0m\u001b[0;34m)\u001b[0m\u001b[0;34m\u001b[0m\u001b[0;34m\u001b[0m\u001b[0m\n\u001b[1;32m      9\u001b[0m \u001b[0;34m\u001b[0m\u001b[0m\n\u001b[0;32m---> 10\u001b[0;31m     \u001b[0moutputs\u001b[0m \u001b[0;34m=\u001b[0m \u001b[0mfnc\u001b[0m\u001b[0;34m(\u001b[0m\u001b[0mxy\u001b[0m\u001b[0;34m)\u001b[0m\u001b[0;34m\u001b[0m\u001b[0;34m\u001b[0m\u001b[0m\n\u001b[0m\u001b[1;32m     11\u001b[0m     \u001b[0mz\u001b[0m \u001b[0;34m=\u001b[0m \u001b[0moutputs\u001b[0m\u001b[0;34m[\u001b[0m\u001b[0;36m0\u001b[0m\u001b[0;34m]\u001b[0m\u001b[0;34m.\u001b[0m\u001b[0mreshape\u001b[0m\u001b[0;34m(\u001b[0m\u001b[0;34m[\u001b[0m\u001b[0mny\u001b[0m\u001b[0;34m,\u001b[0m\u001b[0mnx\u001b[0m\u001b[0;34m]\u001b[0m\u001b[0;34m)\u001b[0m\u001b[0;34m\u001b[0m\u001b[0;34m\u001b[0m\u001b[0m\n\u001b[1;32m     12\u001b[0m \u001b[0;34m\u001b[0m\u001b[0m\n",
      "\u001b[0;31mTypeError\u001b[0m: landscape_simple() missing 1 required positional argument: 'py'"
     ]
    }
   ],
   "source": [
    "x0 = np.linspace(-2,5, 201)\n",
    "plot_3d(landscape_simple, x0, x0, sym)\n",
    "\n",
    "x0 = np.linspace(-4,10, 201)\n",
    "plot_3d(landscape_simple2, x0, x0, sym)\n",
    "\n",
    "x0 = np.linspace(0,20, 301); #y0 = np.linspace(-20, 0, 201);\n",
    "plot_3d(landscape, x0, x0, sym)"
   ]
  },
  {
   "cell_type": "code",
   "execution_count": null,
   "metadata": {},
   "outputs": [],
   "source": []
  }
 ],
 "metadata": {
  "kernelspec": {
   "display_name": "Python [conda env:bfs] *",
   "language": "python",
   "name": "conda-env-bfs-py"
  },
  "language_info": {
   "codemirror_mode": {
    "name": "ipython",
    "version": 3
   },
   "file_extension": ".py",
   "mimetype": "text/x-python",
   "name": "python",
   "nbconvert_exporter": "python",
   "pygments_lexer": "ipython3",
   "version": "3.6.8"
  }
 },
 "nbformat": 4,
 "nbformat_minor": 4
}
